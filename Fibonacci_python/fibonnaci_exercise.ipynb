{
 "cells": [
  {
   "cell_type": "code",
   "execution_count": 4,
   "id": "58bdd169",
   "metadata": {},
   "outputs": [
    {
     "name": "stdout",
     "output_type": "stream",
     "text": [
      "[0, 1, 1, 2]\n"
     ]
    }
   ],
   "source": [
    "#Fibonacci\n",
    "def fibonacci(n):\n",
    "    num1 = 1\n",
    "    num2 = 1\n",
    "    total = 0\n",
    "    array = []\n",
    "    if(n < 0):\n",
    "        return \"Please don't put negative numbers\"\n",
    "    if(n == 0):\n",
    "        return \"Nothing\"\n",
    "    elif(n == 1):\n",
    "        array.append(0)\n",
    "        return array\n",
    "    elif(n == 2):\n",
    "        array.extend([0,1])\n",
    "        return array\n",
    "    else:\n",
    "        array.extend([0,1,1])\n",
    "        for i in range(n-3):\n",
    "            total = num1 + num2\n",
    "            num2 = num1\n",
    "            num1 = total\n",
    "            array.append(total)\n",
    "        return array\n",
    "\n",
    "n = input(\"How many numbers of Fibonacci do you want to see: \")\n",
    "try:\n",
    "    number = int(n)\n",
    "    print(fibonacci(number))\n",
    "except ValueError:\n",
    "    print(\"Please put a number\")\n"
   ]
  }
 ],
 "metadata": {
  "kernelspec": {
   "display_name": "Python 3.8.8 ('base')",
   "language": "python",
   "name": "python3"
  },
  "language_info": {
   "codemirror_mode": {
    "name": "ipython",
    "version": 3
   },
   "file_extension": ".py",
   "mimetype": "text/x-python",
   "name": "python",
   "nbconvert_exporter": "python",
   "pygments_lexer": "ipython3",
   "version": "3.8.8"
  },
  "vscode": {
   "interpreter": {
    "hash": "ad2bdc8ecc057115af97d19610ffacc2b4e99fae6737bb82f5d7fb13d2f2c186"
   }
  }
 },
 "nbformat": 4,
 "nbformat_minor": 5
}
