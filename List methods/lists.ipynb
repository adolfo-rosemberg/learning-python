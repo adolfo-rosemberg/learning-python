{
 "cells": [
  {
   "cell_type": "code",
   "execution_count": null,
   "metadata": {},
   "outputs": [],
   "source": [
    "#Course of Python by: Fazt\n",
    "demo_list = [1, 'Hello', 3.14, True, [1,2,3]]\n",
    "colors = ['Red', 'Blue', 'Green']\n",
    "# print(demo_list)\n",
    "# print(colors)\n",
    "# print(type(colors))\n",
    "\n",
    "number_list = list((1,2,3,4,5))\n",
    "# print(number_list)\n",
    "# print(type(number_list))\n",
    "\n",
    "range_list = list(range(1,10)) \n",
    "# print(range_list)\n",
    "\n",
    "# print (dir(range_list)) #Methods of list\n",
    "\n",
    "\n",
    "# print(len(demo_list))\n",
    "# print(demo_list[0])\n",
    "# print(demo_list[1])\n",
    "# print(demo_list[-1])\n",
    "# print(\"Green\" in colors)\n",
    "# print(\"Violet\" in colors)\n",
    "colors[2] = 'Violet'\n",
    "print(colors)\n",
    "\n",
    "colors.append('Rose')\n",
    "print(colors)\n",
    "\n",
    "# colors.append(('Yellow','Black'))\n",
    "colors.extend(('Yellow','Black'))\n",
    "print(colors)\n",
    "colors.insert(0,'White')\n",
    "print(colors)\n",
    "colors.insert(len(colors),'Rainbow')\n",
    "print(colors)\n",
    "\n",
    "colors.pop()\n",
    "print(colors)\n",
    "\n",
    "colors.remove('Red')\n",
    "print(colors)\n",
    "\n",
    "colors.pop(1)\n",
    "print(colors)\n",
    "\n",
    "# colors.clear()\n",
    "# print(colors)\n",
    "\n",
    "colors.sort()\n",
    "print(colors)\n",
    "\n",
    "colors.sort(reverse=True)\n",
    "print(colors)\n",
    "\n",
    "# print(colors.index('White'))\n",
    "\n",
    "colors[0] = 'Black'\n",
    "print(colors)\n",
    "\n",
    "print(colors.count('Black'))"
   ]
  }
 ],
 "metadata": {
  "kernelspec": {
   "display_name": "Python 3.8.8 ('base')",
   "language": "python",
   "name": "python3"
  },
  "language_info": {
   "codemirror_mode": {
    "name": "ipython",
    "version": 3
   },
   "file_extension": ".py",
   "mimetype": "text/x-python",
   "name": "python",
   "nbconvert_exporter": "python",
   "pygments_lexer": "ipython3",
   "version": "3.8.8"
  },
  "orig_nbformat": 4,
  "vscode": {
   "interpreter": {
    "hash": "ad2bdc8ecc057115af97d19610ffacc2b4e99fae6737bb82f5d7fb13d2f2c186"
   }
  }
 },
 "nbformat": 4,
 "nbformat_minor": 2
}
