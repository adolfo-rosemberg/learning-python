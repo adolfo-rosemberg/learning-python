{
 "cells": [
  {
   "cell_type": "code",
   "execution_count": 20,
   "metadata": {},
   "outputs": [
    {
     "name": "stdout",
     "output_type": "stream",
     "text": [
      "{'product': 'Book', 'price': 30}\n",
      "{'product': 'Book', 'price': 30}\n",
      "{'product': 'Notebook', 'price': 10}\n",
      "{'product': 'Car', 'price': 100000, 'description': 'Na man tas re loco'}\n",
      "blue\n",
      "red\n"
     ]
    }
   ],
   "source": [
    "colors = set(['blue','red'])\n",
    "products_dict = [\n",
    "    {\"product\": \"Book\", \"price\": 30},\n",
    "    {\"product\": \"Notebook\", \"price\": 10},\n",
    "    {\"product\": \"Car\", \"price\": 100000, \"description\": \"Na man tas re loco\"}\n",
    "]\n",
    "print(products_dict[0])\n",
    "for product in products_dict:\n",
    "    print(product)\n",
    "\n",
    "for color in colors:\n",
    "    print(color)\n",
    "\n",
    "lista=[i for i in range(10)]\n",
    "# print(colors)\n",
    "# print(lista)\n",
    "# print(products_dict)"
   ]
  }
 ],
 "metadata": {
  "kernelspec": {
   "display_name": "Python 3.8.8 ('base')",
   "language": "python",
   "name": "python3"
  },
  "language_info": {
   "codemirror_mode": {
    "name": "ipython",
    "version": 3
   },
   "file_extension": ".py",
   "mimetype": "text/x-python",
   "name": "python",
   "nbconvert_exporter": "python",
   "pygments_lexer": "ipython3",
   "version": "3.8.8"
  },
  "orig_nbformat": 4,
  "vscode": {
   "interpreter": {
    "hash": "ad2bdc8ecc057115af97d19610ffacc2b4e99fae6737bb82f5d7fb13d2f2c186"
   }
  }
 },
 "nbformat": 4,
 "nbformat_minor": 2
}
