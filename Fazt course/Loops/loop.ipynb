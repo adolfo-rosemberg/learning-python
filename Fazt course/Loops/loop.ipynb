{
 "cells": [
  {
   "cell_type": "code",
   "execution_count": 16,
   "metadata": {},
   "outputs": [
    {
     "name": "stdout",
     "output_type": "stream",
     "text": [
      "apples\n",
      "cheese\n",
      "\n",
      "1\n",
      "2\n",
      "3\n",
      "4\n",
      "5\n",
      "6\n",
      "7\n",
      "8\n",
      "9\n",
      "\n",
      "H\n",
      "e\n",
      "l\n",
      "l\n",
      "o\n",
      "\n",
      "5\n",
      "6\n",
      "7\n",
      "8\n",
      "9\n",
      "10\n"
     ]
    }
   ],
   "source": [
    "#Course of Python by: Fazt\n",
    "#For examples\n",
    "foods =['apples', 'bread','cheese' ,'bananas', 'graves']\n",
    "for food in foods:\n",
    "    if food == \"bread\":\n",
    "        continue\n",
    "    if food == \"bananas\":\n",
    "        break\n",
    "    print(food)\n",
    "print()\n",
    "for number in range(1,10):\n",
    "     print(number)\n",
    "\n",
    "print()\n",
    "for letter in \"Hello\":\n",
    "     print(letter)\n",
    "print()\n",
    "#While:\n",
    "count = 5\n",
    "while count <= 10:\n",
    "    print(count)\n",
    "    count = count+1"
   ]
  }
 ],
 "metadata": {
  "kernelspec": {
   "display_name": "Python 3.8.8 ('base')",
   "language": "python",
   "name": "python3"
  },
  "language_info": {
   "codemirror_mode": {
    "name": "ipython",
    "version": 3
   },
   "file_extension": ".py",
   "mimetype": "text/x-python",
   "name": "python",
   "nbconvert_exporter": "python",
   "pygments_lexer": "ipython3",
   "version": "3.8.8"
  },
  "orig_nbformat": 4,
  "vscode": {
   "interpreter": {
    "hash": "ad2bdc8ecc057115af97d19610ffacc2b4e99fae6737bb82f5d7fb13d2f2c186"
   }
  }
 },
 "nbformat": 4,
 "nbformat_minor": 2
}
