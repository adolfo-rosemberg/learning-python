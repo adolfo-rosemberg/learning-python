{
 "cells": [
  {
   "cell_type": "code",
   "execution_count": 28,
   "metadata": {},
   "outputs": [
    {
     "name": "stdout",
     "output_type": "stream",
     "text": [
      "Concatenating a string with variable in the same printout: Hello world\n",
      "HELLO WORLD\n",
      "hello world\n",
      "hELLO WORLD\n",
      "Hello world\n",
      "Bye world\n",
      "1\n",
      "True\n",
      "False\n",
      "True\n",
      "False\n",
      "['Hello', 'world']\n",
      "['Adolfo Rosemberg', 'Renteria Pineda']\n",
      "10\n",
      "11\n",
      "6\n",
      "True\n",
      "False\n",
      "H\n",
      "e\n",
      "l\n",
      "l\n",
      "o\n"
     ]
    }
   ],
   "source": [
    "#Using strings methods\n",
    "#Course of Python by: Fazt\n",
    "myStr = \"Hello world\"\n",
    "myStr2 = \"Adolfo Rosemberg - Renteria Pineda\"\n",
    "print(f\"Concatenating a string with variable in the same printout: {myStr}\")\n",
    "print(myStr. upper( ) )\n",
    "print(myStr. lower( ) )\n",
    "print (myStr. swapcase( ) )\n",
    "print(myStr. capitalize( ) )\n",
    "print(myStr. replace( \"Hello\",\"Bye\"))\n",
    "\n",
    "print (myStr.count(' '))\n",
    "print(myStr.startswith(\"Hello\"))\n",
    "print(myStr.startswith(\"Hola\"))\n",
    "print(myStr.endswith(\"world\"))\n",
    "print(myStr.endswith(\"mundo\"))\n",
    "\n",
    "print(myStr.split())\n",
    "print(myStr2.split(' - '))\n",
    "print(myStr.find('d'))\n",
    "print(len(myStr))\n",
    "print(myStr.index('w'))\n",
    "\n",
    "print(myStr.isprintable())\n",
    "print(myStr.isnumeric())\n",
    "\n",
    "print(myStr[0])\n",
    "print(myStr[1])\n",
    "print(myStr[2])\n",
    "print(myStr[3])\n",
    "print(myStr[4])"
   ]
  }
 ],
 "metadata": {
  "kernelspec": {
   "display_name": "Python 3.8.8 ('base')",
   "language": "python",
   "name": "python3"
  },
  "language_info": {
   "codemirror_mode": {
    "name": "ipython",
    "version": 3
   },
   "file_extension": ".py",
   "mimetype": "text/x-python",
   "name": "python",
   "nbconvert_exporter": "python",
   "pygments_lexer": "ipython3",
   "version": "3.8.8"
  },
  "orig_nbformat": 4,
  "vscode": {
   "interpreter": {
    "hash": "ad2bdc8ecc057115af97d19610ffacc2b4e99fae6737bb82f5d7fb13d2f2c186"
   }
  }
 },
 "nbformat": 4,
 "nbformat_minor": 2
}
