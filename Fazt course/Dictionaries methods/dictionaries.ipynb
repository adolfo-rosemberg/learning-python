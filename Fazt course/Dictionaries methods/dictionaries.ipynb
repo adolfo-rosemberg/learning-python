{
 "cells": [
  {
   "cell_type": "code",
   "execution_count": null,
   "metadata": {},
   "outputs": [],
   "source": [
    "#Course of Python by: Fazt\n",
    "product ={\n",
    "\"name\": \"book\",\n",
    "\"quantity\": 3,\n",
    "\"price\": 4.99}\n",
    "\n",
    "person = {\n",
    "\"first_name\": \"ryan\",\n",
    "\"last_name\": \"ray\"}\n",
    "\n",
    "\n",
    "print(person)\n",
    "print(person.keys())\n",
    "print(person.items())\n",
    "\n",
    "# del person\n",
    "# print(person)\n",
    "person.clear()\n",
    "print(person)\n",
    "\n",
    "products = (\n",
    "    {\n",
    "        \"name\": \"book\", \"price\": 20.00\n",
    "    },\n",
    "    {\n",
    "        \"name\": \"laptop\", \"price\": 999.99\n",
    "    }\n",
    ")\n",
    "\n",
    "print(products)"
   ]
  }
 ],
 "metadata": {
  "kernelspec": {
   "display_name": "Python 3.8.8 ('base')",
   "language": "python",
   "name": "python3"
  },
  "language_info": {
   "codemirror_mode": {
    "name": "ipython",
    "version": 3
   },
   "file_extension": ".py",
   "mimetype": "text/x-python",
   "name": "python",
   "nbconvert_exporter": "python",
   "pygments_lexer": "ipython3",
   "version": "3.8.8"
  },
  "orig_nbformat": 4,
  "vscode": {
   "interpreter": {
    "hash": "ad2bdc8ecc057115af97d19610ffacc2b4e99fae6737bb82f5d7fb13d2f2c186"
   }
  }
 },
 "nbformat": 4,
 "nbformat_minor": 2
}
