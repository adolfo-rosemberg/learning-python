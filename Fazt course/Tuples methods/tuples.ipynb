{
 "cells": [
  {
   "cell_type": "code",
   "execution_count": 28,
   "metadata": {},
   "outputs": [
    {
     "name": "stdout",
     "output_type": "stream",
     "text": [
      "(1, 2, 3)\n",
      "<class 'tuple'>\n",
      "(4, 5, 6)\n",
      "{(18.29933, 38.32322): 'Tokyo', (38.23333, 48.8777): 'Mexico'}\n",
      "<class 'dict'>\n"
     ]
    }
   ],
   "source": [
    "x = (1,2,3)\n",
    "print(x)\n",
    "print(type(x))\n",
    "\n",
    "y = (4,5,6)\n",
    "print(y)\n",
    "# y[0] = 1\n",
    "# print(y)\n",
    "\n",
    "locations = {\n",
    "    (18.29933, 38.32322): \"Tokyo\",\n",
    "    (38.23333, 48.8777): \"Mexico\"\n",
    "}\n",
    "print(locations)\n",
    "print(type(locations))"
   ]
  }
 ],
 "metadata": {
  "kernelspec": {
   "display_name": "Python 3.8.8 ('base')",
   "language": "python",
   "name": "python3"
  },
  "language_info": {
   "codemirror_mode": {
    "name": "ipython",
    "version": 3
   },
   "file_extension": ".py",
   "mimetype": "text/x-python",
   "name": "python",
   "nbconvert_exporter": "python",
   "pygments_lexer": "ipython3",
   "version": "3.8.8"
  },
  "orig_nbformat": 4,
  "vscode": {
   "interpreter": {
    "hash": "ad2bdc8ecc057115af97d19610ffacc2b4e99fae6737bb82f5d7fb13d2f2c186"
   }
  }
 },
 "nbformat": 4,
 "nbformat_minor": 2
}
