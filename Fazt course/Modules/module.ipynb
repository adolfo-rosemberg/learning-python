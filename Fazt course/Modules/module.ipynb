{
 "cells": [
  {
   "cell_type": "code",
   "execution_count": null,
   "metadata": {},
   "outputs": [],
   "source": [
    "import datetime \n",
    "# import our_module\n",
    "# ourmodule.add(1,2)\n",
    "from our_module import add, sub\n",
    "\n",
    "# print(dir(datetime))\n",
    "print(datetime.time(10,20,30))\n",
    "\n",
    "print(datetime.date.today())\n",
    "print(datetime.datetime.today())\n",
    "\n",
    "minutes = 320\n",
    "seconds = 46000\n",
    "print(datetime.timedelta(minutes= minutes))\n",
    "print(datetime.timedelta(seconds= seconds))\n",
    "\n",
    "print(add(1,2))\n",
    "print(sub(3,5))"
   ]
  }
 ],
 "metadata": {
  "kernelspec": {
   "display_name": "Python 3.8.8 ('base')",
   "language": "python",
   "name": "python3"
  },
  "language_info": {
   "codemirror_mode": {
    "name": "ipython",
    "version": 3
   },
   "file_extension": ".py",
   "mimetype": "text/x-python",
   "name": "python",
   "nbconvert_exporter": "python",
   "pygments_lexer": "ipython3",
   "version": "3.8.8"
  },
  "orig_nbformat": 4,
  "vscode": {
   "interpreter": {
    "hash": "ad2bdc8ecc057115af97d19610ffacc2b4e99fae6737bb82f5d7fb13d2f2c186"
   }
  }
 },
 "nbformat": 4,
 "nbformat_minor": 2
}
